{
 "cells": [
  {
   "cell_type": "code",
   "execution_count": 21,
   "id": "bc03210d",
   "metadata": {},
   "outputs": [],
   "source": [
    "from matplotlib import pyplot as plt"
   ]
  },
  {
   "cell_type": "code",
   "execution_count": 35,
   "id": "7d33f57f",
   "metadata": {},
   "outputs": [],
   "source": [
    "from skimage.color import rgb2gray\n",
    "profile_image = plt.imread('images/profile_image.jpg')\n",
    "profile_image = rgb2gray(profile_image)"
   ]
  },
  {
   "cell_type": "code",
   "execution_count": 36,
   "id": "45ac4f74",
   "metadata": {},
   "outputs": [],
   "source": [
    "from skimage.segmentation import slic"
   ]
  },
  {
   "cell_type": "code",
   "execution_count": 45,
   "id": "9c828c4a",
   "metadata": {},
   "outputs": [],
   "source": [
    "segments = slic(profile_image, start_label=1, n_segments=100)"
   ]
  },
  {
   "cell_type": "code",
   "execution_count": 46,
   "id": "71b4f3a0",
   "metadata": {},
   "outputs": [],
   "source": [
    "from skimage.color import label2rgb"
   ]
  },
  {
   "cell_type": "code",
   "execution_count": 47,
   "id": "1ba0f2bd",
   "metadata": {},
   "outputs": [],
   "source": [
    "segmented_image = label2rgb(segments, profile_image, kind='avg', bg_label=0)"
   ]
  },
  {
   "cell_type": "code",
   "execution_count": 48,
   "id": "da03fc5e",
   "metadata": {},
   "outputs": [],
   "source": [
    "from skimage import data\n",
    "from skimage.feature import Cascade"
   ]
  },
  {
   "cell_type": "code",
   "execution_count": 49,
   "id": "cd556f3d",
   "metadata": {},
   "outputs": [],
   "source": [
    "trained_file = data.lbp_frontal_face_cascade_filename()\n",
    "detector = Cascade(trained_file)"
   ]
  },
  {
   "cell_type": "code",
   "execution_count": 53,
   "id": "67d19bcf",
   "metadata": {},
   "outputs": [],
   "source": [
    "# Detect the faces with multi scale method\n",
    "detected = detector.detect_multi_scale(img=segmented_image, \n",
    "                                       scale_factor=1.2, \n",
    "                                       step_ratio=1, \n",
    "                                       min_size=(10, 10), max_size=(1000, 1000))"
   ]
  },
  {
   "cell_type": "code",
   "execution_count": 54,
   "id": "856f11cf",
   "metadata": {},
   "outputs": [],
   "source": [
    "from matplotlib import patches\n",
    "\n",
    "def show_detected_face(result, detected, title=\"Face image\"):\n",
    "    plt.imshow(result)\n",
    "    img_desc = plt.gca()\n",
    "    plt.set_cmap('gray')\n",
    "    plt.title(title)\n",
    "    plt.axis('off')\n",
    "    for patch in detected:\n",
    "        img_desc.add_patch(\n",
    "            patches.Rectangle((patch['c'], patch['r']),\n",
    "                            patch['width'],\n",
    "                            patch['height'],\n",
    "                            fill=False,\n",
    "                            color='r',\n",
    "                            linewidth=2))\n",
    "    plt.show()"
   ]
  },
  {
   "cell_type": "code",
   "execution_count": 55,
   "id": "53bdb465",
   "metadata": {},
   "outputs": [
    {
     "data": {
      "image/png": "[encoded data removed]",
      "text/plain": [
       "<Figure size 432x288 with 1 Axes>"
      ]
     },
     "metadata": {
      "needs_background": "light"
     },
     "output_type": "display_data"
    }
   ],
   "source": [
    "show_detected_face(segmented_image, detected)"
   ]
  },
  {
   "cell_type": "code",
   "execution_count": null,
   "id": "74bbd181",
   "metadata": {},
   "outputs": [],
   "source": []
  }
 ],
 "metadata": {
  "kernelspec": {
   "display_name": "project-work",
   "language": "python",
   "name": "project-work"
  },
  "language_info": {
   "codemirror_mode": {
    "name": "ipython",
    "version": 3
   },
   "file_extension": ".py",
   "mimetype": "text/x-python",
   "name": "python",
   "nbconvert_exporter": "python",
   "pygments_lexer": "ipython3",
   "version": "3.9.2"
  }
 },
 "nbformat": 4,
 "nbformat_minor": 5
}
